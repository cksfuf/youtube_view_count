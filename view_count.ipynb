{
 "cells": [
  {
   "cell_type": "code",
   "execution_count": 1,
   "id": "130b2eed-d259-48db-81f7-ca8047619694",
   "metadata": {},
   "outputs": [],
   "source": [
    "import pandas as pd"
   ]
  },
  {
   "cell_type": "markdown",
   "id": "c00551d0-3ba3-4f72-9cd5-ed4d7fe8c13b",
   "metadata": {},
   "source": [
    "### csv 파일 데이터프레임 형식으로 불러오기"
   ]
  },
  {
   "cell_type": "code",
   "execution_count": 2,
   "id": "880ce517-7695-422e-8719-0e0c34b6b1b8",
   "metadata": {
    "scrolled": true
   },
   "outputs": [],
   "source": [
    "# 파일 데이터프레임 형식 지정\n",
    "df1 = pd.read_csv('성적을 부탁해 티쳐스.csv')\n",
    "df2 = pd.read_csv('아빠는 꽃중년.csv')\n",
    "df3 = pd.read_csv('오은영의 금쪽 상담소.csv')\n",
    "df4 = pd.read_csv('이제 만나러 갑니다.csv')\n",
    "df5 = pd.read_csv('절친 토크멘터리 4인용 식탁.csv')\n",
    "df6 = pd.read_csv('탐정들의 영업비밀.csv')\n",
    "df7 = pd.read_csv('남의 나라 살아보기 선 넘은 패밀리.csv')\n",
    "df8 = pd.read_csv('요즘 남자 라이프 신랑수업.csv')\n",
    "df9 = pd.read_csv('요즘 육아 금쪽같은 내 새끼.csv')\n",
    "df10 = pd.read_csv('채널A 토일드라마 새벽 2시의 신데렐라.csv')"
   ]
  },
  {
   "cell_type": "markdown",
   "id": "55d5abf4-97ad-44cf-be3c-c68f890ffdbe",
   "metadata": {},
   "source": [
    "### 조회수, 좋아요 숫자형으로 변환"
   ]
  },
  {
   "cell_type": "code",
   "execution_count": 3,
   "id": "8d1d351c-a19e-4d48-8691-dd7f4dba4d02",
   "metadata": {},
   "outputs": [],
   "source": [
    "# 파일 조회수, 좋아요 숫자형으로 변환\n",
    "dfs = [df1,df2,df3,df4,df5,df6,df7,df8,df9,df10]\n",
    "for i in dfs:\n",
    "    columns_to_convert = ['view_count', 'like_count']\n",
    "    i[columns_to_convert] = i[columns_to_convert].apply(pd.to_numeric, errors='coerce')"
   ]
  },
  {
   "cell_type": "markdown",
   "id": "89e60a56-f3c1-4a04-8d45-67a65261ecd4",
   "metadata": {},
   "source": [
    "### 채널 분류하기"
   ]
  },
  {
   "cell_type": "code",
   "execution_count": 4,
   "id": "ff59eca3-1583-4f46-9d87-91e6264691f0",
   "metadata": {
    "scrolled": true
   },
   "outputs": [
    {
     "name": "stdout",
     "output_type": "stream",
     "text": [
      "df1: ['play 채널A' '채널아하: 채널A Health & Asset' '채널에이드: 채널A Drama & Enjoy'\n",
      " '채널A WORLD' '쿠팡플레이 Coupang Play' 'tvN D ENT']\n",
      "df2: ['play 채널A' '채널에이드: 채널A Drama & Enjoy' '빼밀리' '채널A WORLD' 'SBS STORY'\n",
      " '이슈통신' '정석희 테레비평' '채널아하: 채널A Health & Asset' 'SBS Entertainment']\n",
      "df3: ['play 채널A' '엠뚜루마뚜루 : MBC 공식 종합 채널' '채널에이드: 채널A Drama & Enjoy' '잡생각🌟'\n",
      " '채널A WORLD' 'KBS 다큐' '빼밀리' '채널아하: 채널A Health & Asset' '오은영리포트 결혼지옥']\n",
      "df4: ['play 채널A' '채널A WORLD' 'GFRIEND   - Topic' '채널에이드: 채널A Drama & Enjoy']\n",
      "df5: ['play 채널A' '채널아하: 채널A Health & Asset' '채널에이드: 채널A Drama & Enjoy'\n",
      " '채널A WORLD' '빼밀리']\n",
      "df6: ['play 채널A' '채널A WORLD' '채널에이드: 채널A Drama & Enjoy' '빼밀리' '티캐스트 tcast'\n",
      " 'tvN' '실제상황 Real Story' 'JTBC News' '사이다 : 사실은 이렇습니다' '탐정의 영업비밀 대장 이상민탐정'\n",
      " '조은영화' '인생속으로' '맥가이버 탐정TV' 'MBCNEWS' '인탐백 [인물탐구백서]']\n",
      "df7: ['play 채널A' '채널A WORLD' '채널에이드: 채널A Drama & Enjoy' 'JTBC Voyage' '연예가체크'\n",
      " 'KBS Drama' 'KBS 한국방송' 'water토끼' 'SBS 옛날 드라마 - 빽드'\n",
      " '엠뚜루마뚜루 : MBC 공식 종합 채널' '디글 :Diggle' 'tvN D ENT' '신천지예수교증거장막성전' '유준호'\n",
      " 'EBSDocumentary (EBS 다큐)' '고몽' '의학채널 비온뒤' '샾잉 #ing' '루디스튜디오'\n",
      " 'Netflix Korea 넷플릭스 코리아' '디글 클래식 :Diggle Classic' 'JTBC Life' '아빠하고 나하고'\n",
      " '소음예술 notnoisebutart' '풋군' '星辰漫客' 'SBS ' '키퍼스처치' 'KBS HUMAN : 뭉클티비'\n",
      " '마가의다락방교회' 'SUNBA선바' '서현 가족이야기 ' 'DRAMA Voyage' '플라톤아카데미TV' '동심파괴'\n",
      " '서울사이버대학교' '얼굴없는 DJ MoMo - 독백 라디오' '아이돌오타쿠' '일당백 : 일생동안 읽어야 할 백권의 책'\n",
      " '차클 플러스' 'KBS 교양' '책 읽어주는 아내' '무비방' 'Nóc Nhà Review' '케이피아 KPIA : 역사 채널'\n",
      " 'MBCentertainment' 'SBS Catch' '대산문화재단' '국민이주' '손절유영두' '糖宝动画'\n",
      " 'Vloger _ 한국 연예인' '홍하상TV 작가 ' '蔓蔓动画' '샤론코치TV Sharon CoachTV'\n",
      " '특종세상 - 그때 그 사람' '斗罗短剧' '토마토증권통' ' 켄PD의 우연한 행복' '网文风向标' '옛드 : MBC 옛날 드라마'\n",
      " 'Full Audiobooks' '뉴스킨 패밀리 그룹 since 2002' '서울경제TV SENvod' '沙雕轻漫'\n",
      " 'Anime Zone' '유학튜브' 'Lani All In One' '더한섬닷컴 HANDSOME' '엘리엇TV'\n",
      " '암웨이 오디오 (Amway Audio)' '푸릉_렘군' '한국증권TV' 'KBS Entertain'\n",
      " '고려대학교 Korea University' 'L2B High-Class TV' '追劇鴨' '정원친구-이오' '영반'\n",
      " '서호수 최강주식' '김효석아카데미' '솔찬패밀리' '디아이프렙 The-I Prep' '클린카즈중고차이민용팀장' '북렌즈_승화하다'\n",
      " '평화의 집짓기 Building a Peace House']\n",
      "df8: ['play 채널A' '연예속보' '채널에이드: 채널A Drama & Enjoy' '빼밀리' '채널A WORLD' '궁희신당'\n",
      " 'NewsInStar' '영탁이장르다' '원원' '내일은뉴스 ']\n",
      "df9: ['play 채널A' '채널A WORLD' '채널에이드: 채널A Drama & Enjoy' '빼밀리']\n",
      "df10: ['play 채널A' '쿠팡플레이 Coupang Play' 'Mojin Series ' '젠젠' 'SBS Radio 에라오'\n",
      " '오늘의 기대작' '어썸이엔티' '모두의 영상 스토어' '드라마소개소' '시간없죠! 짧은 시간으로 드라마 따라잡기 '\n",
      " '그거 알아?_영화' 'Top Movies(톱 무비)' '용산연예상점' '이야기아줌마' '씨네플레이 CINEPLAY'\n",
      " 'Ha Hyun Sang - Topic' 'YEONJUN - Topic' 'SEOUL MUSIC / 서울뮤직' 'K-드라마 예측자'\n",
      " '뉴데이뉴스' '문상민 저장소' 'MTN STAR' 'kDrama Full OST' '1분 픽쇼츠' '영화 숏숏숏'\n",
      " '24h 간 뉴스-TM' 'Your KDrama Chingu' '옛능: OBS 옛날예능' 'Movie-bee' '한군데만 판다'\n",
      " '이야기모아' 'PEAK STUDIO' 'DIVE Studios / 다이브 스튜디오' 'Sirius Oppa' 'y&y'\n",
      " 'SINGLES KOREA 싱글즈 매거진' 'Vincent Blue - Topic' '스튜디오 마음C ' 'Tin Carol'\n",
      " '드라마스토리' 'MUHAMMED DANSEBE' '달콤 ᴅᴀʟᴄᴏᴍ' 'KBS News' 'CRAZY GREAPA'\n",
      " '잼잼리뷰,드라마&웹툰 리뷰' 'M-Drama' 'snow wolf' 'MUNERGY' 'Top drama' '꽁지' '투투'\n",
      " '드라마인' '하뉴두뉴' 'KBS Drama' '생생스타·SangSangStar' 'EWhite' '어쩔티비'\n",
      " 'NewsInStar' 'Grugroove🎶' 'Korean OST _ Taiwan Fans katwfans' 'TEERAPAT'\n",
      " 'JTBC News' '뀨앙' 'Kpop lirik' 'Waves海浪🌊' 'INCEPTION_0913' '스튜디오지니'\n",
      " 'MBCentertainment' 'tvN D ENT' '뚜아뚜지TV' 'tvN DRAMA' 'Gossip Kr - 연예뉴스'\n",
      " '김시선' '캡틴라미[captain ramy]' '리틀신비🎵 | 키즈 율동 동요' 'Lorina' 'K-Tigers TV'\n",
      " 'JTBC Drama' '소리없는영화' 'KBS Joy' '지무비 : G Movie' '랄라하의 사연드라마'\n",
      " 'MY DRAMA OST' '해피 라이프 happy life with you' '채널에이드: 채널A Drama & Enjoy'\n",
      " 'KBS 같이삽시다' 'MBCdrama' '신비아파트 공식채널 - Shinbi House' '톱데일리 Top Daily']\n"
     ]
    }
   ],
   "source": [
    "# 채널 분류\n",
    "# unique_values = df1['channel_name'].unique()\n",
    "# unique_values\n",
    "\n",
    "unique_values = []\n",
    "for i, df in enumerate(dfs, start=1):\n",
    "    unique_val = df['channel_name'].unique()\n",
    "    unique_values.append(f'df{i}: {unique_val}')\n",
    "\n",
    "# 결과 출력\n",
    "for unique_val in unique_values:\n",
    "    print(unique_val)"
   ]
  },
  {
   "cell_type": "markdown",
   "id": "95427557-ef64-4c81-8673-4de37042e93f",
   "metadata": {},
   "source": [
    "> 다양한 채널에서 업로드 한 것을 확인\n",
    "> \n",
    "> 영상의 정확도를 올리기 위해 채널 필터링"
   ]
  },
  {
   "cell_type": "markdown",
   "id": "fee082ed-6f26-45dd-8759-d76a1cfef8be",
   "metadata": {},
   "source": [
    "### 채널 적용"
   ]
  },
  {
   "cell_type": "code",
   "execution_count": 5,
   "id": "ce168132-297b-4977-b4f6-1b987806b845",
   "metadata": {},
   "outputs": [
    {
     "data": {
      "text/plain": [
       "title           198\n",
       "view_count      198\n",
       "like_count      198\n",
       "channel_name    198\n",
       "published       198\n",
       "dtype: int64"
      ]
     },
     "execution_count": 5,
     "metadata": {},
     "output_type": "execute_result"
    }
   ],
   "source": [
    "# 성적을 부탁해 티쳐스\n",
    "channels_of_interest = ['play 채널A', '채널아하: 채널A Health & Asset', '채널에이드: 채널A Drama & Enjoy','채널A WORLD']\n",
    "df1_filtered = df1[df1['channel_name'].isin(channels_of_interest)]\n",
    "df1_filtered = df1_filtered.reset_index(drop=True)\n",
    "df1_filtered.count()"
   ]
  },
  {
   "cell_type": "code",
   "execution_count": 6,
   "id": "e8e1f861-4cdb-4c14-a767-01b66b926aac",
   "metadata": {},
   "outputs": [
    {
     "data": {
      "text/plain": [
       "title           196\n",
       "view_count      196\n",
       "like_count      196\n",
       "channel_name    196\n",
       "published       196\n",
       "dtype: int64"
      ]
     },
     "execution_count": 6,
     "metadata": {},
     "output_type": "execute_result"
    }
   ],
   "source": [
    "# 아빠는 꽂중년\n",
    "channels_of_interest = ['play 채널A', '채널에이드: 채널A Drama & Enjoy', '빼밀리', '채널A WORLD','채널아하: 채널A Health & Asset']\n",
    "df2_filtered = df2[df2['channel_name'].isin(channels_of_interest)]\n",
    "df2_filtered = df2_filtered.reset_index(drop=True)\n",
    "df2_filtered.count()"
   ]
  },
  {
   "cell_type": "code",
   "execution_count": 7,
   "id": "341131f4-b2b7-4aeb-be83-34a068a7e8fb",
   "metadata": {},
   "outputs": [
    {
     "data": {
      "text/plain": [
       "title           191\n",
       "view_count      191\n",
       "like_count      191\n",
       "channel_name    191\n",
       "published       191\n",
       "dtype: int64"
      ]
     },
     "execution_count": 7,
     "metadata": {},
     "output_type": "execute_result"
    }
   ],
   "source": [
    "# 오은영의 금쪽 상담소\n",
    "channels_of_interest = ['play 채널A', '채널에이드: 채널A Drama & Enjoy', '채널A WORLD', '빼밀리', '채널아하: 채널A Health & Asset']\n",
    "df3_filtered = df3[df3['channel_name'].isin(channels_of_interest)]\n",
    "df3_filtered = df3_filtered.reset_index(drop=True)\n",
    "df3_filtered.count()"
   ]
  },
  {
   "cell_type": "code",
   "execution_count": 8,
   "id": "583fd724-8998-41ba-97ba-3f0a16339d8d",
   "metadata": {},
   "outputs": [
    {
     "data": {
      "text/plain": [
       "title           199\n",
       "view_count      199\n",
       "like_count      199\n",
       "channel_name    199\n",
       "published       199\n",
       "dtype: int64"
      ]
     },
     "execution_count": 8,
     "metadata": {},
     "output_type": "execute_result"
    }
   ],
   "source": [
    "# 이제 만나러 갑니다\n",
    "channels_of_interest = ['play 채널A', '채널A WORLD', '채널에이드: 채널A Drama & Enjoy']\n",
    "df4_filtered = df4[df4['channel_name'].isin(channels_of_interest)]\n",
    "df4_filtered = df4_filtered.reset_index(drop=True)\n",
    "df4_filtered.count()"
   ]
  },
  {
   "cell_type": "code",
   "execution_count": 9,
   "id": "a2657e56-f6f1-4b77-8aac-d1d4796284b9",
   "metadata": {},
   "outputs": [
    {
     "data": {
      "text/plain": [
       "title           200\n",
       "view_count      200\n",
       "like_count      200\n",
       "channel_name    200\n",
       "published       200\n",
       "dtype: int64"
      ]
     },
     "execution_count": 9,
     "metadata": {},
     "output_type": "execute_result"
    }
   ],
   "source": [
    "# 절친 토크멘터리 4인용 식탁\n",
    "channels_of_interest = ['play 채널A', '채널아하: 채널A Health & Asset', '채널에이드: 채널A Drama & Enjoy', '채널A WORLD', '빼밀리']\n",
    "df5_filtered = df5[df5['channel_name'].isin(channels_of_interest)]\n",
    "df5_filtered = df5_filtered.reset_index(drop=True)\n",
    "df5_filtered.count()"
   ]
  },
  {
   "cell_type": "code",
   "execution_count": 10,
   "id": "8931847a-c39b-4bf3-9622-3b9144592485",
   "metadata": {},
   "outputs": [
    {
     "data": {
      "text/plain": [
       "title           188\n",
       "view_count      188\n",
       "like_count      188\n",
       "channel_name    188\n",
       "published       188\n",
       "dtype: int64"
      ]
     },
     "execution_count": 10,
     "metadata": {},
     "output_type": "execute_result"
    }
   ],
   "source": [
    "# 탐정들의 영업비밀\n",
    "channels_of_interest = ['play 채널A', '채널A WORLD', '채널에이드: 채널A Drama & Enjoy', '빼밀리']\n",
    "df6_filtered = df6[df6['channel_name'].isin(channels_of_interest)]\n",
    "df6_filtered = df6_filtered.reset_index(drop=True)\n",
    "df6_filtered.count()"
   ]
  },
  {
   "cell_type": "code",
   "execution_count": 11,
   "id": "e68ab4bb-a1d4-431b-bae5-1edc4abc9fb5",
   "metadata": {},
   "outputs": [
    {
     "data": {
      "text/plain": [
       "title           83\n",
       "view_count      83\n",
       "like_count      83\n",
       "channel_name    83\n",
       "published       83\n",
       "dtype: int64"
      ]
     },
     "execution_count": 11,
     "metadata": {},
     "output_type": "execute_result"
    }
   ],
   "source": [
    "# 남의 나라 살아보기 선 넘은 패밀리\n",
    "channels_of_interest = ['play 채널A', '채널A WORLD', '채널에이드: 채널A Drama & Enjoy']\n",
    "df7_filtered = df7[df7['channel_name'].isin(channels_of_interest)]\n",
    "df7_filtered = df7_filtered.reset_index(drop=True)\n",
    "df7_filtered.count()"
   ]
  },
  {
   "cell_type": "code",
   "execution_count": 12,
   "id": "2ce37b38-99ea-4db6-a346-69e34a1ea001",
   "metadata": {},
   "outputs": [
    {
     "data": {
      "text/plain": [
       "title           191\n",
       "view_count      191\n",
       "like_count      191\n",
       "channel_name    191\n",
       "published       191\n",
       "dtype: int64"
      ]
     },
     "execution_count": 12,
     "metadata": {},
     "output_type": "execute_result"
    }
   ],
   "source": [
    "# 요즘 남자 라이프 신랑수업\n",
    "channels_of_interest = ['play 채널A', '채널에이드: 채널A Drama & Enjoy', '빼밀리', '채널A WORLD']\n",
    "df8_filtered = df8[df8['channel_name'].isin(channels_of_interest)]\n",
    "df8_filtered = df8_filtered.reset_index(drop=True)\n",
    "df8_filtered.count()"
   ]
  },
  {
   "cell_type": "code",
   "execution_count": 13,
   "id": "2ad07d48-235e-44b0-8253-6648a8669416",
   "metadata": {},
   "outputs": [
    {
     "data": {
      "text/plain": [
       "title           200\n",
       "view_count      200\n",
       "like_count      200\n",
       "channel_name    200\n",
       "published       200\n",
       "dtype: int64"
      ]
     },
     "execution_count": 13,
     "metadata": {},
     "output_type": "execute_result"
    }
   ],
   "source": [
    "# 요즘 육아 금쪽같은 내 새끼\n",
    "channels_of_interest = ['play 채널A', '채널A WORLD', '채널에이드: 채널A Drama & Enjoy', '빼밀리']\n",
    "df9_filtered = df9[df9['channel_name'].isin(channels_of_interest)]\n",
    "df9_filtered = df9_filtered.reset_index(drop=True)\n",
    "df9_filtered.count()"
   ]
  },
  {
   "cell_type": "code",
   "execution_count": 14,
   "id": "3c0abaa2-63f4-4a3a-a194-98597a5996c8",
   "metadata": {},
   "outputs": [
    {
     "data": {
      "text/plain": [
       "title           12\n",
       "view_count      12\n",
       "like_count      12\n",
       "channel_name    12\n",
       "published       12\n",
       "dtype: int64"
      ]
     },
     "execution_count": 14,
     "metadata": {},
     "output_type": "execute_result"
    }
   ],
   "source": [
    "# 채널A 토일드라마 새벽 2시의 신데렐라\n",
    "channels_of_interest = ['play 채널A', '채널에이드: 채널A Drama & Enjoy']\n",
    "df10_filtered = df10[df10['channel_name'].isin(channels_of_interest)]\n",
    "df10_filtered = df10_filtered.reset_index(drop=True)\n",
    "df10_filtered.count()"
   ]
  },
  {
   "cell_type": "markdown",
   "id": "87c25315-4e1f-4574-9ecd-961ce01f4006",
   "metadata": {},
   "source": [
    "> df10은 쿠팡 플레이를 포함하면 30개의 영상 확보 가능\n",
    ">\n",
    "> df7, df10 이 100개 이하\n",
    "> \n",
    "> df1 성적을 부탁해 티쳐스 198\n",
    "\n",
    "> df2 아빠는 꽃중년 196\n",
    "\n",
    "> df3 오은영의 금쪽 상담소 191\n",
    "\n",
    "> df4 이제 만나러 갑니다 199\n",
    "\n",
    "> df5 절친 토크멘터리 4인용 식탁 200\n",
    "\n",
    "> df6 탐정들의 영업비밀 188\n",
    "\n",
    "> df7 남의 나라 살아보기 선 넘은 패밀리 83\n",
    "\n",
    "> df8 요즘 남자 라이프 신랑수업 191\n",
    "\n",
    "> df9 요즘 육아 금쪽같은 내 새끼 200\n",
    "\n",
    "> df10 채널A 토일드라마 새벽 2시의 신데렐라 12"
   ]
  },
  {
   "cell_type": "markdown",
   "id": "da33c4f9-c86d-40b2-bf63-7d579e94d8a6",
   "metadata": {},
   "source": [
    "### 영상 필터링"
   ]
  },
  {
   "cell_type": "code",
   "execution_count": 15,
   "id": "a2ee7736-912a-4574-bfa2-b57c658fe2f0",
   "metadata": {},
   "outputs": [
    {
     "data": {
      "text/html": [
       "<div>\n",
       "<style scoped>\n",
       "    .dataframe tbody tr th:only-of-type {\n",
       "        vertical-align: middle;\n",
       "    }\n",
       "\n",
       "    .dataframe tbody tr th {\n",
       "        vertical-align: top;\n",
       "    }\n",
       "\n",
       "    .dataframe thead th {\n",
       "        text-align: right;\n",
       "    }\n",
       "</style>\n",
       "<table border=\"1\" class=\"dataframe\">\n",
       "  <thead>\n",
       "    <tr style=\"text-align: right;\">\n",
       "      <th></th>\n",
       "      <th>title</th>\n",
       "      <th>view_count</th>\n",
       "      <th>like_count</th>\n",
       "      <th>channel_name</th>\n",
       "      <th>published</th>\n",
       "    </tr>\n",
       "  </thead>\n",
       "  <tbody>\n",
       "    <tr>\n",
       "      <th>0</th>\n",
       "      <td>🔴 [#선넘은패밀리] 1회 무료보기🤠 국경의 선을 넘어 해외살이 중인 국제 가족들!...</td>\n",
       "      <td>331191</td>\n",
       "      <td>4391.0</td>\n",
       "      <td>play 채널A</td>\n",
       "      <td>2023-09-22T12:45:10Z</td>\n",
       "    </tr>\n",
       "    <tr>\n",
       "      <th>1</th>\n",
       "      <td>[#선넘은패밀리] 청량 그 자체★ 청정 자연이 만들어낸 장관! 사이판에서 프리다이빙...</td>\n",
       "      <td>2462</td>\n",
       "      <td>23.0</td>\n",
       "      <td>play 채널A</td>\n",
       "      <td>2024-08-30T14:26:01Z</td>\n",
       "    </tr>\n",
       "    <tr>\n",
       "      <th>2</th>\n",
       "      <td>[#선넘은패밀리] 멋스러운 건축 양식과 쭉 펼쳐진 지중해까지★ 남프랑스로 떠난 휴가...</td>\n",
       "      <td>2420</td>\n",
       "      <td>12.0</td>\n",
       "      <td>play 채널A</td>\n",
       "      <td>2024-08-23T14:31:41Z</td>\n",
       "    </tr>\n",
       "    <tr>\n",
       "      <th>3</th>\n",
       "      <td>몇 초만 늦었어도... #선넘은패밀리</td>\n",
       "      <td>4782</td>\n",
       "      <td>20.0</td>\n",
       "      <td>play 채널A</td>\n",
       "      <td>2024-08-30T14:39:25Z</td>\n",
       "    </tr>\n",
       "    <tr>\n",
       "      <th>4</th>\n",
       "      <td>세계인들의 버킷리스트! #선넘은패밀리</td>\n",
       "      <td>1680</td>\n",
       "      <td>49.0</td>\n",
       "      <td>play 채널A</td>\n",
       "      <td>2024-08-09T15:24:08Z</td>\n",
       "    </tr>\n",
       "    <tr>\n",
       "      <th>...</th>\n",
       "      <td>...</td>\n",
       "      <td>...</td>\n",
       "      <td>...</td>\n",
       "      <td>...</td>\n",
       "      <td>...</td>\n",
       "    </tr>\n",
       "    <tr>\n",
       "      <th>74</th>\n",
       "      <td>세계 1위 호텔?! 이탈리아 핫 플 탐방기★ | 선 넘은 패밀리 17 회</td>\n",
       "      <td>2413</td>\n",
       "      <td>11.0</td>\n",
       "      <td>play 채널A</td>\n",
       "      <td>2024-01-20T13:36:01Z</td>\n",
       "    </tr>\n",
       "    <tr>\n",
       "      <th>75</th>\n",
       "      <td>차원이 다른 스케일♨ 이게 찐 야생이다, 남아공 사파리 투어♥ | 선 넘은 패밀리 ...</td>\n",
       "      <td>689</td>\n",
       "      <td>4.0</td>\n",
       "      <td>play 채널A</td>\n",
       "      <td>2024-01-13T12:43:22Z</td>\n",
       "    </tr>\n",
       "    <tr>\n",
       "      <th>76</th>\n",
       "      <td>사우나에서 하는 정상 회담(?) 북유럽 최고 인기 코스 | 선 넘은 패밀리 17 회</td>\n",
       "      <td>886</td>\n",
       "      <td>3.0</td>\n",
       "      <td>play 채널A</td>\n",
       "      <td>2024-01-20T13:30:32Z</td>\n",
       "    </tr>\n",
       "    <tr>\n",
       "      <th>77</th>\n",
       "      <td>[#밥친구] 임영웅 찐 팬 남편 등장?! 오스티리아 한복판에서 외친 임영웅 헌정 공...</td>\n",
       "      <td>23485</td>\n",
       "      <td>1055.0</td>\n",
       "      <td>채널A WORLD</td>\n",
       "      <td>2024-03-29T13:00:51Z</td>\n",
       "    </tr>\n",
       "    <tr>\n",
       "      <th>78</th>\n",
       "      <td>끝나지 않는 번지점프(?) 역으로 올라가야 끝나는 남아공 번지점프의 위엄 | 선 넘...</td>\n",
       "      <td>1985</td>\n",
       "      <td>11.0</td>\n",
       "      <td>play 채널A</td>\n",
       "      <td>2024-02-17T13:22:24Z</td>\n",
       "    </tr>\n",
       "  </tbody>\n",
       "</table>\n",
       "<p>79 rows × 5 columns</p>\n",
       "</div>"
      ],
      "text/plain": [
       "                                                title  view_count  like_count  \\\n",
       "0   🔴 [#선넘은패밀리] 1회 무료보기🤠 국경의 선을 넘어 해외살이 중인 국제 가족들!...      331191      4391.0   \n",
       "1   [#선넘은패밀리] 청량 그 자체★ 청정 자연이 만들어낸 장관! 사이판에서 프리다이빙...        2462        23.0   \n",
       "2   [#선넘은패밀리] 멋스러운 건축 양식과 쭉 펼쳐진 지중해까지★ 남프랑스로 떠난 휴가...        2420        12.0   \n",
       "3                                몇 초만 늦었어도... #선넘은패밀리        4782        20.0   \n",
       "4                                세계인들의 버킷리스트! #선넘은패밀리        1680        49.0   \n",
       "..                                                ...         ...         ...   \n",
       "74           세계 1위 호텔?! 이탈리아 핫 플 탐방기★ | 선 넘은 패밀리 17 회        2413        11.0   \n",
       "75  차원이 다른 스케일♨ 이게 찐 야생이다, 남아공 사파리 투어♥ | 선 넘은 패밀리 ...         689         4.0   \n",
       "76     사우나에서 하는 정상 회담(?) 북유럽 최고 인기 코스 | 선 넘은 패밀리 17 회         886         3.0   \n",
       "77  [#밥친구] 임영웅 찐 팬 남편 등장?! 오스티리아 한복판에서 외친 임영웅 헌정 공...       23485      1055.0   \n",
       "78  끝나지 않는 번지점프(?) 역으로 올라가야 끝나는 남아공 번지점프의 위엄 | 선 넘...        1985        11.0   \n",
       "\n",
       "   channel_name             published  \n",
       "0      play 채널A  2023-09-22T12:45:10Z  \n",
       "1      play 채널A  2024-08-30T14:26:01Z  \n",
       "2      play 채널A  2024-08-23T14:31:41Z  \n",
       "3      play 채널A  2024-08-30T14:39:25Z  \n",
       "4      play 채널A  2024-08-09T15:24:08Z  \n",
       "..          ...                   ...  \n",
       "74     play 채널A  2024-01-20T13:36:01Z  \n",
       "75     play 채널A  2024-01-13T12:43:22Z  \n",
       "76     play 채널A  2024-01-20T13:30:32Z  \n",
       "77    채널A WORLD  2024-03-29T13:00:51Z  \n",
       "78     play 채널A  2024-02-17T13:22:24Z  \n",
       "\n",
       "[79 rows x 5 columns]"
      ]
     },
     "execution_count": 15,
     "metadata": {},
     "output_type": "execute_result"
    }
   ],
   "source": [
    "df7_filtered = df7_filtered.drop([79,80,81,82])\n",
    "df7_filtered"
   ]
  },
  {
   "cell_type": "code",
   "execution_count": 16,
   "id": "66b17ddd-2987-4d2c-9a26-e51256069b6b",
   "metadata": {},
   "outputs": [
    {
     "data": {
      "text/html": [
       "<div>\n",
       "<style scoped>\n",
       "    .dataframe tbody tr th:only-of-type {\n",
       "        vertical-align: middle;\n",
       "    }\n",
       "\n",
       "    .dataframe tbody tr th {\n",
       "        vertical-align: top;\n",
       "    }\n",
       "\n",
       "    .dataframe thead th {\n",
       "        text-align: right;\n",
       "    }\n",
       "</style>\n",
       "<table border=\"1\" class=\"dataframe\">\n",
       "  <thead>\n",
       "    <tr style=\"text-align: right;\">\n",
       "      <th></th>\n",
       "      <th>title</th>\n",
       "      <th>view_count</th>\n",
       "      <th>like_count</th>\n",
       "      <th>channel_name</th>\n",
       "      <th>published</th>\n",
       "    </tr>\n",
       "  </thead>\n",
       "  <tbody>\n",
       "    <tr>\n",
       "      <th>0</th>\n",
       "      <td>[5회 예고] 신현빈 걱정 뿐인 문상민! 곤란한 신현빈 앞에 구세주처럼 등장한 이현...</td>\n",
       "      <td>428</td>\n",
       "      <td>6.0</td>\n",
       "      <td>play 채널A</td>\n",
       "      <td>2024-09-04T06:32:02Z</td>\n",
       "    </tr>\n",
       "    <tr>\n",
       "      <th>1</th>\n",
       "      <td>[OST] 새벽 2시의 신데렐라 OST Part4 투모로우바이투게더 연준 - Boy...</td>\n",
       "      <td>5447</td>\n",
       "      <td>722.0</td>\n",
       "      <td>play 채널A</td>\n",
       "      <td>2024-09-01T09:00:38Z</td>\n",
       "    </tr>\n",
       "    <tr>\n",
       "      <th>2</th>\n",
       "      <td>[4회 예고] \"간절한 문구들이 내 머릿속에서 떠나지 않아\" 이별 휴유증을 앓고 있...</td>\n",
       "      <td>8145</td>\n",
       "      <td>46.0</td>\n",
       "      <td>play 채널A</td>\n",
       "      <td>2024-08-31T14:15:03Z</td>\n",
       "    </tr>\n",
       "    <tr>\n",
       "      <th>3</th>\n",
       "      <td>[3회 예고] \"실컷 웃고, 실컷 울고...\" 마지막 하루를 보내는 신현빈X문상민 ...</td>\n",
       "      <td>7634</td>\n",
       "      <td>58.0</td>\n",
       "      <td>play 채널A</td>\n",
       "      <td>2024-08-26T09:00:31Z</td>\n",
       "    </tr>\n",
       "    <tr>\n",
       "      <th>4</th>\n",
       "      <td>[OST] 새벽 2시의 신데렐라 OST Part3 하현상 - 항해 | 새벽 2시의 ...</td>\n",
       "      <td>1205</td>\n",
       "      <td>28.0</td>\n",
       "      <td>play 채널A</td>\n",
       "      <td>2024-08-31T09:00:54Z</td>\n",
       "    </tr>\n",
       "    <tr>\n",
       "      <th>5</th>\n",
       "      <td>[티저] 끝이라 생각한 관계가 리셋되었다?! 신현빈x문상민 연상연하 쌍방구원 로맨스...</td>\n",
       "      <td>6685</td>\n",
       "      <td>58.0</td>\n",
       "      <td>play 채널A</td>\n",
       "      <td>2024-08-06T01:37:42Z</td>\n",
       "    </tr>\n",
       "    <tr>\n",
       "      <th>6</th>\n",
       "      <td>[OST] 새벽 2시의 신데렐라 OST Part2 샘김 Shining You | 새...</td>\n",
       "      <td>2092</td>\n",
       "      <td>38.0</td>\n",
       "      <td>play 채널A</td>\n",
       "      <td>2024-08-25T09:00:43Z</td>\n",
       "    </tr>\n",
       "  </tbody>\n",
       "</table>\n",
       "</div>"
      ],
      "text/plain": [
       "                                               title  view_count  like_count  \\\n",
       "0  [5회 예고] 신현빈 걱정 뿐인 문상민! 곤란한 신현빈 앞에 구세주처럼 등장한 이현...         428         6.0   \n",
       "1  [OST] 새벽 2시의 신데렐라 OST Part4 투모로우바이투게더 연준 - Boy...        5447       722.0   \n",
       "2  [4회 예고] \"간절한 문구들이 내 머릿속에서 떠나지 않아\" 이별 휴유증을 앓고 있...        8145        46.0   \n",
       "3  [3회 예고] \"실컷 웃고, 실컷 울고...\" 마지막 하루를 보내는 신현빈X문상민 ...        7634        58.0   \n",
       "4  [OST] 새벽 2시의 신데렐라 OST Part3 하현상 - 항해 | 새벽 2시의 ...        1205        28.0   \n",
       "5  [티저] 끝이라 생각한 관계가 리셋되었다?! 신현빈x문상민 연상연하 쌍방구원 로맨스...        6685        58.0   \n",
       "6  [OST] 새벽 2시의 신데렐라 OST Part2 샘김 Shining You | 새...        2092        38.0   \n",
       "\n",
       "  channel_name             published  \n",
       "0     play 채널A  2024-09-04T06:32:02Z  \n",
       "1     play 채널A  2024-09-01T09:00:38Z  \n",
       "2     play 채널A  2024-08-31T14:15:03Z  \n",
       "3     play 채널A  2024-08-26T09:00:31Z  \n",
       "4     play 채널A  2024-08-31T09:00:54Z  \n",
       "5     play 채널A  2024-08-06T01:37:42Z  \n",
       "6     play 채널A  2024-08-25T09:00:43Z  "
      ]
     },
     "execution_count": 16,
     "metadata": {},
     "output_type": "execute_result"
    }
   ],
   "source": [
    "df10_filtered = df10_filtered.drop([7,8,9,10,11])\n",
    "df10_filtered"
   ]
  },
  {
   "cell_type": "markdown",
   "id": "81729e8d-882b-4b6b-878c-4888c81b3723",
   "metadata": {},
   "source": [
    "> 10번의 영상은 7개로 매우 적음"
   ]
  },
  {
   "cell_type": "markdown",
   "id": "785fd94f-32a2-4cf0-a819-acbf732bbef5",
   "metadata": {},
   "source": [
    "### 프로그램별 최소, 최대, 평균 조회수"
   ]
  },
  {
   "cell_type": "code",
   "execution_count": 17,
   "id": "4eab1623-fbb0-438c-ab49-64e1ca88ee84",
   "metadata": {},
   "outputs": [],
   "source": [
    "# 채널 필터링된 변수 사용\n",
    "dfs_filtered = [df1_filtered,df2_filtered,df3_filtered,df4_filtered,df5_filtered,df6_filtered,df7_filtered,df8_filtered,df9_filtered,df10_filtered]"
   ]
  },
  {
   "cell_type": "code",
   "execution_count": 18,
   "id": "4c5d9cd2-4715-4fc2-9e38-2272161a0878",
   "metadata": {},
   "outputs": [
    {
     "name": "stdout",
     "output_type": "stream",
     "text": [
      "df5: 344\n",
      "df7: 397\n",
      "df10: 428\n",
      "df6: 744\n",
      "df8: 1798\n",
      "df3: 2237\n",
      "df9: 2249\n",
      "df2: 2293\n",
      "df4: 4013\n",
      "df1: 12803\n"
     ]
    }
   ],
   "source": [
    "# min\n",
    "min_values = []\n",
    "\n",
    "# 각 데이터프레임에서 view_count 열의 min 값 계산\n",
    "for i, df in enumerate(dfs_filtered, start=1):\n",
    "    min_val = df['view_count'].min()\n",
    "    min_values.append(f'df{i}: {min_val}')\n",
    "\n",
    "def extract_number(s):\n",
    "    return int(s.split(': ')[1])\n",
    "\n",
    "# min_values를 숫자 기준으로 정렬\n",
    "min_values_sorted = sorted(min_values, key=extract_number)\n",
    "\n",
    "# 결과 출력\n",
    "for min_val in min_values_sorted:\n",
    "    print(min_val)"
   ]
  },
  {
   "cell_type": "code",
   "execution_count": 19,
   "id": "b2b512e4-5212-452e-8934-b255c72535a2",
   "metadata": {},
   "outputs": [
    {
     "name": "stdout",
     "output_type": "stream",
     "text": [
      "title            \"그럼 안 되지...\" #4인용식탁\n",
      "view_count                       344\n",
      "like_count                         3\n",
      "channel_name                play 채널A\n",
      "published       2023-09-12T11:38:55Z\n",
      "dtype: object\n",
      "title           (ㄷㄷ;;) 사자가 물 수도 있다!? 위험천만 남아공 사파리 | 선 넘은 패밀리 16 회\n",
      "view_count                                                    397\n",
      "like_count                                                    3.0\n",
      "channel_name                                             play 채널A\n",
      "published                                    2023-09-22T12:45:10Z\n",
      "dtype: object\n",
      "title           [3회 예고] \"실컷 웃고, 실컷 울고...\" 마지막 하루를 보내는 신현빈X문상민 ...\n",
      "view_count                                                    428\n",
      "like_count                                                    6.0\n",
      "channel_name                                             play 채널A\n",
      "published                                    2024-08-06T01:37:42Z\n",
      "dtype: object\n",
      "title           (40분) 2400만원 떼먹고 잠적한 대표를 잡았더니 한다는 말?!ㅣ탐정들의 영업비밀\n",
      "view_count                                                  744\n",
      "like_count                                                  4.0\n",
      "channel_name                                           play 채널A\n",
      "published                                  2024-01-29T12:45:10Z\n",
      "dtype: object\n"
     ]
    }
   ],
   "source": [
    "min_info = [df5_filtered.min(), df7_filtered.min(), df10_filtered.min(), df6_filtered.min()]\n",
    "for a in min_info:\n",
    "    print(a)"
   ]
  },
  {
   "cell_type": "markdown",
   "id": "a7efeafc-0eb8-4f0d-bdcc-c0237af7b6c2",
   "metadata": {},
   "source": [
    "> df5(절친 토크멘터리 4인용 식탁 23-09-12)\n",
    "> \n",
    "> df7(남의 나라 살아보기 선 넘은 패밀리 23-09-22)\n",
    ">\n",
    "> df10(채널A 토일드라마 새벽 2시의 신데렐라 24-08-06)\n",
    ">\n",
    "> df6(탐정들의 영업비밀 24-01-29)\n",
    ">\n",
    "> df10는 업로드 일이 1달 전으로 고려해야함\n"
   ]
  },
  {
   "cell_type": "code",
   "execution_count": 20,
   "id": "5920c38d-15d7-48bc-8772-8a406d7ef456",
   "metadata": {},
   "outputs": [
    {
     "name": "stdout",
     "output_type": "stream",
     "text": [
      "df10: 8145\n",
      "df7: 527559\n",
      "df2: 849242\n",
      "df5: 1624406\n",
      "df8: 1847505\n",
      "df6: 2089852\n",
      "df4: 5217857\n",
      "df3: 5640876\n",
      "df1: 6145229\n",
      "df9: 8445752\n"
     ]
    }
   ],
   "source": [
    "# max\n",
    "max_values = []\n",
    "\n",
    "# 각 데이터프레임에서 view_count 열의 min 값 계산\n",
    "for i, df in enumerate(dfs_filtered, start=1):\n",
    "    max_val = df['view_count'].max()\n",
    "    max_values.append(f'df{i}: {max_val}')\n",
    "\n",
    "def extract_number(s):\n",
    "    return int(s.split(': ')[1])\n",
    "\n",
    "max_values_sorted = sorted(max_values, key=extract_number)\n",
    "\n",
    "# 결과 출력\n",
    "for max_val in max_values_sorted:\n",
    "    print(max_val)"
   ]
  },
  {
   "cell_type": "code",
   "execution_count": 21,
   "id": "5daf7752-3453-4e7f-ae55-800846de3f31",
   "metadata": {},
   "outputs": [
    {
     "name": "stdout",
     "output_type": "stream",
     "text": [
      "title           [티저] 끝이라 생각한 관계가 리셋되었다?! 신현빈x문상민 연상연하 쌍방구원 로맨스...\n",
      "view_count                                                   8145\n",
      "like_count                                                  722.0\n",
      "channel_name                                             play 채널A\n",
      "published                                    2024-09-04T06:32:02Z\n",
      "dtype: object\n",
      "title           🔴 [#선넘은패밀리] 1회 무료보기🤠 국경의 선을 넘어 해외살이 중인 국제 가족들!...\n",
      "view_count                                                 527559\n",
      "like_count                                                 7752.0\n",
      "channel_name                             채널에이드: 채널A Drama & Enjoy\n",
      "published                                    2024-08-31T13:10:18Z\n",
      "dtype: object\n",
      "title           🔴 [#아빠는꽃중년 1회 최초공개] 청춘 따위 끝난 줄 알았는데...다시 시작되었습...\n",
      "view_count                                                 849242\n",
      "like_count                                                  16128\n",
      "channel_name                             채널에이드: 채널A Drama & Enjoy\n",
      "published                                    2024-09-02T06:00:15Z\n",
      "dtype: object\n",
      "title           ＂눈치 보지 말고 그냥 해!＂ 홍석천을 감동시킨 배우 이승연의 한마디! | 절친 토...\n",
      "view_count                                                1624406\n",
      "like_count                                                  22854\n",
      "channel_name                             채널에이드: 채널A Drama & Enjoy\n",
      "published                                    2024-09-02T15:03:56Z\n",
      "dtype: object\n"
     ]
    }
   ],
   "source": [
    "max_info = [df10_filtered.max(), df7_filtered.max(), df2_filtered.max(), df5_filtered.max()]\n",
    "for a in max_info:\n",
    "    print(a)"
   ]
  },
  {
   "cell_type": "markdown",
   "id": "1c63633a-5971-47ab-bd33-130dbfb46b01",
   "metadata": {},
   "source": [
    "> df10(채널A 토일드라마 새벽 2시의 신데렐라 2024-09-04)\n",
    ">\n",
    "> df7(선 넘은 패밀리 2024-08-31)\n",
    ">\n",
    "> df2(아빠는 꽃중년 2024-09-02)\n",
    ">\n",
    "> df5(절친 토크멘터리 4인용 식탁  2024-09-02)\n",
    ">\n",
    "> 업로드 일수가 최근이지만 그 프로그램에서 최고 조회수를 보임\n",
    ">\n",
    "> 10개의 프로그램 중 낮은 순으로 최고 조회수지만 업로드일을 고려해야함"
   ]
  },
  {
   "cell_type": "code",
   "execution_count": 22,
   "id": "e3a7a56a-8fa1-4714-8f6f-f6171ff69325",
   "metadata": {},
   "outputs": [
    {
     "name": "stdout",
     "output_type": "stream",
     "text": [
      "df10: 4519.428571428572\n",
      "df7: 44135.51898734177\n",
      "df2: 101025.60204081633\n",
      "df6: 141756.1489361702\n",
      "df5: 163769.015\n",
      "df8: 214048.51308900522\n",
      "df4: 377051.88442211057\n",
      "df1: 505636.24242424243\n",
      "df3: 608994.7539267016\n",
      "df9: 896396.205\n"
     ]
    }
   ],
   "source": [
    "# mean\n",
    "# max\n",
    "mean_values = []\n",
    "\n",
    "# 각 데이터프레임에서 view_count 열의 min 값 계산\n",
    "for i, df in enumerate(dfs_filtered, start=1):\n",
    "    mean_val = df['view_count'].mean()\n",
    "    mean_values.append(f'df{i}: {mean_val}')\n",
    "\n",
    "def extract_float(s):\n",
    "    return float(s.split(': ')[1])\n",
    "\n",
    "mean_values_sorted = sorted(mean_values, key=extract_float)\n",
    "\n",
    "# 결과 출력\n",
    "for mean_val in mean_values_sorted:\n",
    "    print(mean_val)"
   ]
  },
  {
   "cell_type": "markdown",
   "id": "4d6a2c11-0826-4530-bfdd-133a65cce1f6",
   "metadata": {},
   "source": [
    "> df10(채널A 토일드라마 새벽 2시의 신데렐라)\n",
    "\n",
    "> df7(선 넘은 패밀리)\n",
    "\n",
    "> df2(아빠는 꽃중년)\n",
    "\n",
    "> df6(탐정들의 영업비밀)\n",
    ">\n",
    "> df10은 총 영상과 업로드일을 고려해야함\n",
    ">\n",
    "> 영상의 수, 업로드일을 고려하면 평균 df7이 가장 적다고 볼 수 있음"
   ]
  },
  {
   "cell_type": "markdown",
   "id": "319d70a4-abc2-4849-ac8c-d17aa89dcc50",
   "metadata": {},
   "source": [
    "### 조회수 범위 확인"
   ]
  },
  {
   "cell_type": "code",
   "execution_count": 23,
   "id": "bf49f401-bef1-4f23-81c8-0661e3f8c219",
   "metadata": {},
   "outputs": [
    {
     "data": {
      "text/plain": [
       "view_count_bin\n",
       "(12802.999, 60646.0]     40\n",
       "(131335.4, 280049.8]     40\n",
       "(734740.0, 6145229.0]    40\n",
       "(60646.0, 131335.4]      39\n",
       "(280049.8, 734740.0]     39\n",
       "Name: count, dtype: int64"
      ]
     },
     "execution_count": 23,
     "metadata": {},
     "output_type": "execute_result"
    }
   ],
   "source": [
    "# df1 성적을 부탁해 티쳐스\n",
    "df1_filtered['view_count_bin'] = pd.qcut(df1_filtered['view_count'], q = 5)\n",
    "df1_filtered['view_count_bin'].value_counts()"
   ]
  },
  {
   "cell_type": "code",
   "execution_count": 24,
   "id": "2223b697-b05d-4301-abc1-f6f3a71ba2ed",
   "metadata": {},
   "outputs": [
    {
     "data": {
      "text/plain": [
       "view_count_bin\n",
       "(2292.999, 15783.0]     40\n",
       "(58433.0, 163561.0]     40\n",
       "(15783.0, 28119.0]      39\n",
       "(28119.0, 58433.0]      39\n",
       "(163561.0, 849242.0]    38\n",
       "Name: count, dtype: int64"
      ]
     },
     "execution_count": 24,
     "metadata": {},
     "output_type": "execute_result"
    }
   ],
   "source": [
    "# df2 아빠는 꽃중년\n",
    "df2_filtered['view_count_bin'] = pd.qcut(df2_filtered['view_count'], q = 5)\n",
    "df2_filtered['view_count_bin'].value_counts()"
   ]
  },
  {
   "cell_type": "code",
   "execution_count": 25,
   "id": "9c4a1232-9835-4d36-bb53-88d692e4ce96",
   "metadata": {},
   "outputs": [
    {
     "data": {
      "text/plain": [
       "view_count_bin\n",
       "(2236.999, 61695.0]      39\n",
       "(61695.0, 147856.0]      38\n",
       "(147856.0, 413361.0]     38\n",
       "(413361.0, 966651.0]     38\n",
       "(966651.0, 5640876.0]    38\n",
       "Name: count, dtype: int64"
      ]
     },
     "execution_count": 25,
     "metadata": {},
     "output_type": "execute_result"
    }
   ],
   "source": [
    "# df3 오은영의 금쪽 상담소\n",
    "df3_filtered['view_count_bin'] = pd.qcut(df3_filtered['view_count'], q = 5)\n",
    "df3_filtered['view_count_bin'].value_counts()"
   ]
  },
  {
   "cell_type": "code",
   "execution_count": 26,
   "id": "d5479e1b-b055-4012-85e4-40ec899f500a",
   "metadata": {},
   "outputs": [
    {
     "data": {
      "text/plain": [
       "view_count_bin\n",
       "(4012.999, 23202.4]      40\n",
       "(23202.4, 66725.4]       40\n",
       "(201689.2, 566585.6]     40\n",
       "(566585.6, 5217857.0]    40\n",
       "(66725.4, 201689.2]      39\n",
       "Name: count, dtype: int64"
      ]
     },
     "execution_count": 26,
     "metadata": {},
     "output_type": "execute_result"
    }
   ],
   "source": [
    "# df4 이제 만나러 갑니다\n",
    "df4_filtered['view_count_bin'] = pd.qcut(df4_filtered['view_count'], q = 5)\n",
    "df4_filtered['view_count_bin'].value_counts()"
   ]
  },
  {
   "cell_type": "code",
   "execution_count": 27,
   "id": "4253dc70-677d-4c7a-ad1f-3d724f4af21a",
   "metadata": {},
   "outputs": [
    {
     "data": {
      "text/plain": [
       "view_count_bin\n",
       "(343.999, 10888.8]       40\n",
       "(10888.8, 29501.2]       40\n",
       "(29501.2, 69421.2]       40\n",
       "(69421.2, 202413.6]      40\n",
       "(202413.6, 1624406.0]    40\n",
       "Name: count, dtype: int64"
      ]
     },
     "execution_count": 27,
     "metadata": {},
     "output_type": "execute_result"
    }
   ],
   "source": [
    "# df5 절친 토크멘터리 4인용 식탁\n",
    "df5_filtered['view_count_bin'] = pd.qcut(df5_filtered['view_count'], q = 5)\n",
    "df5_filtered['view_count_bin'].value_counts()"
   ]
  },
  {
   "cell_type": "code",
   "execution_count": 28,
   "id": "df059c7c-9fcf-4065-8a1d-3703e424913a",
   "metadata": {},
   "outputs": [
    {
     "data": {
      "text/plain": [
       "view_count_bin\n",
       "(743.999, 5126.4]        38\n",
       "(5126.4, 20452.0]        38\n",
       "(217245.6, 2089852.0]    38\n",
       "(20452.0, 71952.0]       37\n",
       "(71952.0, 217245.6]      37\n",
       "Name: count, dtype: int64"
      ]
     },
     "execution_count": 28,
     "metadata": {},
     "output_type": "execute_result"
    }
   ],
   "source": [
    "# df6 탐정들의 영업비밀\n",
    "df6_filtered['view_count_bin'] = pd.qcut(df6_filtered['view_count'], q = 5)\n",
    "df6_filtered['view_count_bin'].value_counts()"
   ]
  },
  {
   "cell_type": "code",
   "execution_count": 29,
   "id": "8e27cda3-25d9-4202-b0d0-126257aaa512",
   "metadata": {},
   "outputs": [
    {
     "data": {
      "text/plain": [
       "view_count_bin\n",
       "(396.999, 1555.2]      16\n",
       "(1555.2, 2764.8]       16\n",
       "(7375.4, 23906.2]      16\n",
       "(23906.2, 527559.0]    16\n",
       "(2764.8, 7375.4]       15\n",
       "Name: count, dtype: int64"
      ]
     },
     "execution_count": 29,
     "metadata": {},
     "output_type": "execute_result"
    }
   ],
   "source": [
    "# df7 남의 나라 살아보기 선 넘은 패밀리\n",
    "df7_filtered['view_count_bin'] = pd.qcut(df7_filtered['view_count'], q = 5)\n",
    "df7_filtered['view_count_bin'].value_counts()"
   ]
  },
  {
   "cell_type": "code",
   "execution_count": 30,
   "id": "4f1a4516-45e4-4480-bbbd-91764d06eb6f",
   "metadata": {},
   "outputs": [
    {
     "data": {
      "text/plain": [
       "view_count_bin\n",
       "(1797.999, 54787.0]      39\n",
       "(54787.0, 112768.0]      38\n",
       "(112768.0, 162169.0]     38\n",
       "(162169.0, 279872.0]     38\n",
       "(279872.0, 1847505.0]    38\n",
       "Name: count, dtype: int64"
      ]
     },
     "execution_count": 30,
     "metadata": {},
     "output_type": "execute_result"
    }
   ],
   "source": [
    "# df8 요즘 남자 라이프 신랑수업\n",
    "df8_filtered['view_count_bin'] = pd.qcut(df8_filtered['view_count'], q = 5)\n",
    "df8_filtered['view_count_bin'].value_counts()"
   ]
  },
  {
   "cell_type": "code",
   "execution_count": 31,
   "id": "7e714689-72d8-42ed-93d0-1f2abb012c3d",
   "metadata": {},
   "outputs": [
    {
     "data": {
      "text/plain": [
       "view_count_bin\n",
       "(489838.4, 1430282.0]     41\n",
       "(2248.999, 63913.6]       40\n",
       "(63913.6, 237655.2]       40\n",
       "(237655.2, 489838.4]      40\n",
       "(1430282.0, 8445752.0]    39\n",
       "Name: count, dtype: int64"
      ]
     },
     "execution_count": 31,
     "metadata": {},
     "output_type": "execute_result"
    }
   ],
   "source": [
    "# df9 요즘 육아 금쪽같은 내 새끼\n",
    "df9_filtered['view_count_bin'] = pd.qcut(df9_filtered['view_count'], q = 5)\n",
    "df9_filtered['view_count_bin'].value_counts()"
   ]
  },
  {
   "cell_type": "code",
   "execution_count": 32,
   "id": "d1198dbb-81da-4c8d-ba3d-0501d9d744f9",
   "metadata": {},
   "outputs": [
    {
     "data": {
      "text/plain": [
       "view_count_bin\n",
       "(427.999, 1382.4]    2\n",
       "(7444.2, 8145.0]     2\n",
       "(1382.4, 3434.0]     1\n",
       "(3434.0, 6189.8]     1\n",
       "(6189.8, 7444.2]     1\n",
       "Name: count, dtype: int64"
      ]
     },
     "execution_count": 32,
     "metadata": {},
     "output_type": "execute_result"
    }
   ],
   "source": [
    "# df10 채널A 토일드라마 새벽 2시의 신데렐라\n",
    "df10_filtered['view_count_bin'] = pd.qcut(df10_filtered['view_count'], q = 5)\n",
    "df10_filtered['view_count_bin'].value_counts()"
   ]
  },
  {
   "cell_type": "markdown",
   "id": "1fbf7d0e-2a7e-45d3-8565-fa3bfba670d6",
   "metadata": {},
   "source": [
    "> 전부 균일하게 분포해있음"
   ]
  },
  {
   "cell_type": "code",
   "execution_count": 41,
   "id": "1352c35c-1b71-4b1b-9c59-253d1a453a52",
   "metadata": {},
   "outputs": [
    {
     "data": {
      "image/png": "[encoded data removed]",
      "text/plain": [
       "<Figure size 1400x800 with 1 Axes>"
      ]
     },
     "metadata": {},
     "output_type": "display_data"
    }
   ],
   "source": [
    "import pandas as pd\n",
    "import numpy as np\n",
    "import matplotlib.pyplot as plt\n",
    "\n",
    "dfs_filtered = [df1_filtered, df2_filtered, df3_filtered, df4_filtered, df5_filtered, df6_filtered, df7_filtered, df8_filtered, df9_filtered ,df10]\n",
    "\n",
    "# 각 데이터프레임에서 최대값, 최소값, 평균값 계산\n",
    "max_values = []\n",
    "min_values = []\n",
    "mean_values = []\n",
    "\n",
    "for i, df in enumerate(dfs_filtered, start=1):\n",
    "    max_values.append(df['view_count'].max())\n",
    "    min_values.append(df['view_count'].min())\n",
    "    mean_values.append(df['view_count'].mean())\n",
    "\n",
    "# 시각화\n",
    "labels = [f'df{i}' for i in range(1, 11)]\n",
    "x = np.arange(len(labels))  # x 위치 배열\n",
    "width = 0.2  # 막대 너비\n",
    "\n",
    "fig, ax = plt.subplots(figsize=(14, 8))\n",
    "\n",
    "# 막대 그래프 추가\n",
    "bars1 = ax.bar(x - width, max_values, width, label='Max', color='blue')\n",
    "bars2 = ax.bar(x, min_values, width, label='Min', color='red')\n",
    "bars3 = ax.bar(x + width, mean_values, width, label='Mean', color='green')\n",
    "\n",
    "# 레이블, 제목 및 범례 설정\n",
    "ax.set_xlabel('DataFrame')\n",
    "ax.set_ylabel('view_count')\n",
    "ax.set_title('Max, Min, Mean')\n",
    "ax.set_xticks(x)\n",
    "ax.set_xticklabels(labels, rotation=45)\n",
    "ax.legend()\n",
    "\n",
    "plt.tight_layout()\n",
    "plt.savefig('유튜브 조회수 최대, 최소, 평균.png')\n",
    "plt.show()"
   ]
  },
  {
   "cell_type": "code",
   "execution_count": 42,
   "id": "b5d60d72-dcfa-4518-939f-0bc1cf80ef84",
   "metadata": {},
   "outputs": [
    {
     "data": {
      "image/png": "[encoded data removed]",
      "text/plain": [
       "<Figure size 1400x800 with 1 Axes>"
      ]
     },
     "metadata": {},
     "output_type": "display_data"
    }
   ],
   "source": [
    "dfs_filtered = [df1_filtered, df2_filtered, df3_filtered, df4_filtered, df5_filtered, df6_filtered, df7_filtered, df8_filtered, df9_filtered ,df10]\n",
    "\n",
    "# 각 데이터프레임에서 최대값, 최소값, 평균값 계산\n",
    "max_values = []\n",
    "min_values = []\n",
    "mean_values = []\n",
    "\n",
    "for i, df in enumerate(dfs_filtered, start=1):\n",
    "    min_values.append(df['view_count'].min())\n",
    "    mean_values.append(df['view_count'].mean())\n",
    "\n",
    "# 시각화\n",
    "labels = [f'df{i}' for i in range(1, 11)]\n",
    "x = np.arange(len(labels))  # x 위치 배열\n",
    "width = 0.2  # 막대 너비\n",
    "\n",
    "fig, ax = plt.subplots(figsize=(14, 8))\n",
    "\n",
    "# 막대 그래프 추가\n",
    "bars2 = ax.bar(x, min_values, width, label='Min', color='red')\n",
    "bars3 = ax.bar(x + width, mean_values, width, label='Mean', color='green')\n",
    "\n",
    "# 레이블, 제목 및 범례 설정\n",
    "ax.set_xlabel('DataFrame')\n",
    "ax.set_ylabel('view_count')\n",
    "ax.set_title('Min, Mean')\n",
    "ax.set_xticks(x)\n",
    "ax.set_xticklabels(labels, rotation=45)\n",
    "ax.legend()\n",
    "\n",
    "plt.tight_layout()\n",
    "plt.savefig('유튜브 조회수 최소, 평균.png')\n",
    "plt.show()"
   ]
  },
  {
   "cell_type": "code",
   "execution_count": 43,
   "id": "cf805382-1ca3-4806-96dc-2449f8d4e1d8",
   "metadata": {},
   "outputs": [
    {
     "data": {
      "image/png": "[encoded data removed]",
      "text/plain": [
       "<Figure size 1400x800 with 1 Axes>"
      ]
     },
     "metadata": {},
     "output_type": "display_data"
    }
   ],
   "source": [
    "dfs_filtered = [df1_filtered, df2_filtered, df3_filtered, df4_filtered, df5_filtered, df6_filtered, df7_filtered, df8_filtered, df9_filtered ,df10]\n",
    "\n",
    "# 각 데이터프레임에서 최대값, 최소값, 평균값 계산\n",
    "max_values = []\n",
    "min_values = []\n",
    "mean_values = []\n",
    "\n",
    "for i, df in enumerate(dfs_filtered, start=1):\n",
    "    min_values.append(df['view_count'].min())\n",
    "\n",
    "# 시각화\n",
    "labels = [f'df{i}' for i in range(1, 11)]\n",
    "x = np.arange(len(labels))  # x 위치 배열\n",
    "width = 0.2  # 막대 너비\n",
    "\n",
    "fig, ax = plt.subplots(figsize=(14, 8))\n",
    "\n",
    "# 막대 그래프 추가\n",
    "bars2 = ax.bar(x, min_values, width, label='Min', color='red')\n",
    "\n",
    "# 레이블, 제목 및 범례 설정\n",
    "ax.set_xlabel('DataFrame')\n",
    "ax.set_ylabel('view_count')\n",
    "ax.set_title('Min')\n",
    "ax.set_xticks(x)\n",
    "ax.set_xticklabels(labels, rotation=45)\n",
    "ax.legend()\n",
    "\n",
    "plt.tight_layout()\n",
    "plt.savefig('유튜브 조회수 최소.png')\n",
    "plt.show()"
   ]
  },
  {
   "cell_type": "markdown",
   "id": "58ebdc6a-070c-4ffc-beb6-ca8ffdf6065f",
   "metadata": {},
   "source": [
    "## 결론"
   ]
  },
  {
   "cell_type": "markdown",
   "id": "55412c30-89b7-447e-8769-0b59af27a9c2",
   "metadata": {},
   "source": [
    "- 영상 수, 업로드일, 최소 조회수, 최고 조회수, 조회수 평균, 조회수 구간 분포를 확인해본 결과\n",
    "- df7: [남의 나라 살아보기 선 넘은 패밀리] 가 가장 조회율이 낮다고 판단.\n",
    "\n",
    "> 영상 수, 업로드일을 고려하여 df10 채널A 토일드라마 새벽 2시의 신데렐라 를 제외하면\n",
    ">\n",
    "> df7은 업로드 영상 83개로 낮은 조회수 397, 높은 조회수 527559, 평균 조회수 44135.518로 9개의 프로그램 중 낮은 조회수를 기록"
   ]
  }
 ],
 "metadata": {
  "kernelspec": {
   "display_name": "Python 3 (ipykernel)",
   "language": "python",
   "name": "python3"
  },
  "language_info": {
   "codemirror_mode": {
    "name": "ipython",
    "version": 3
   },
   "file_extension": ".py",
   "mimetype": "text/x-python",
   "name": "python",
   "nbconvert_exporter": "python",
   "pygments_lexer": "ipython3",
   "version": "3.12.4"
  }
 },
 "nbformat": 4,
 "nbformat_minor": 5
}
