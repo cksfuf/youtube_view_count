{
 "cells": [
  {
   "cell_type": "code",
   "execution_count": 1,
   "id": "fd90fe21-0608-4302-96ae-0a9cc247c8e6",
   "metadata": {},
   "outputs": [],
   "source": [
    "import pandas as pd"
   ]
  },
  {
   "cell_type": "code",
   "execution_count": 2,
   "id": "6b164de4-aa1a-4ede-8aba-318215f50c7a",
   "metadata": {},
   "outputs": [],
   "source": [
    "df1 = pd.read_csv('성적을 부탁해 티쳐스.csv')\n",
    "df2 = pd.read_csv('아빠는 꽃중년.csv')\n",
    "df3 = pd.read_csv('오은영의 금쪽 상담소.csv')\n",
    "df4 = pd.read_csv('이제 만나러 갑니다.csv')\n",
    "df5 = pd.read_csv('절친 토크멘터리 4인용 식탁.csv')\n",
    "df6 = pd.read_csv('탐정들의 영업비밀.csv')\n",
    "df7 = pd.read_csv('남의 나라 살아보기 선 넘은 패밀리.csv')\n",
    "df8 = pd.read_csv('요즘 남자 라이프 신랑수업.csv')\n",
    "df9 = pd.read_csv('요즘 육아 금쪽같은 내 새끼.csv')\n",
    "df10 = pd.read_csv('채널A 토일드라마 새벽 2시의 신데렐라.csv')"
   ]
  },
  {
   "cell_type": "code",
   "execution_count": 3,
   "id": "dcd9aaec-d234-4344-994c-179f47e8234b",
   "metadata": {},
   "outputs": [],
   "source": [
    "# 파일 조회수, 좋아요 숫자형으로 변환\n",
    "dfs = [df1,df2,df3,df4,df5,df6,df7,df8,df9,df10]\n",
    "for i in dfs:\n",
    "    columns_to_convert = ['view_count', 'like_count']\n",
    "    i[columns_to_convert] = i[columns_to_convert].apply(pd.to_numeric, errors='coerce')"
   ]
  },
  {
   "cell_type": "code",
   "execution_count": 4,
   "id": "fc75c7c0-e057-4c97-8a7c-f3eefd3f7a4a",
   "metadata": {},
   "outputs": [],
   "source": [
    "# 성적을 부탁해 티쳐스\n",
    "channels_of_interest = ['play 채널A', '채널아하: 채널A Health & Asset', '채널에이드: 채널A Drama & Enjoy','채널A WORLD']\n",
    "df1_filtered = df1[df1['channel_name'].isin(channels_of_interest)]\n",
    "df1_filtered = df1_filtered.reset_index(drop=True)\n",
    "\n",
    "# 아빠는 꽂중년\n",
    "channels_of_interest = ['play 채널A', '채널에이드: 채널A Drama & Enjoy', '빼밀리', '채널A WORLD','채널아하: 채널A Health & Asset']\n",
    "df2_filtered = df2[df2['channel_name'].isin(channels_of_interest)]\n",
    "df2_filtered = df2_filtered.reset_index(drop=True)\n",
    "\n",
    "# 오은영의 금쪽 상담소\n",
    "channels_of_interest = ['play 채널A', '채널에이드: 채널A Drama & Enjoy', '채널A WORLD', '빼밀리', '채널아하: 채널A Health & Asset']\n",
    "df3_filtered = df3[df3['channel_name'].isin(channels_of_interest)]\n",
    "df3_filtered = df3_filtered.reset_index(drop=True)\n",
    "\n",
    "# 이제 만나러 갑니다\n",
    "channels_of_interest = ['play 채널A', '채널A WORLD', '채널에이드: 채널A Drama & Enjoy']\n",
    "df4_filtered = df4[df4['channel_name'].isin(channels_of_interest)]\n",
    "df4_filtered = df4_filtered.reset_index(drop=True)\n",
    "\n",
    "# 절친 토크멘터리 4인용 식탁\n",
    "channels_of_interest = ['play 채널A', '채널아하: 채널A Health & Asset', '채널에이드: 채널A Drama & Enjoy', '채널A WORLD', '빼밀리']\n",
    "df5_filtered = df5[df5['channel_name'].isin(channels_of_interest)]\n",
    "df5_filtered = df5_filtered.reset_index(drop=True)\n",
    "\n",
    "# 탐정들의 영업비밀\n",
    "channels_of_interest = ['play 채널A', '채널A WORLD', '채널에이드: 채널A Drama & Enjoy', '빼밀리']\n",
    "df6_filtered = df6[df6['channel_name'].isin(channels_of_interest)]\n",
    "df6_filtered = df6_filtered.reset_index(drop=True)\n",
    "\n",
    "# 남의 나라 살아보기 선 넘은 패밀리\n",
    "channels_of_interest = ['play 채널A', '채널A WORLD', '채널에이드: 채널A Drama & Enjoy']\n",
    "df7_filtered = df7[df7['channel_name'].isin(channels_of_interest)]\n",
    "df7_filtered = df7_filtered.reset_index(drop=True)\n",
    "\n",
    "# 요즘 남자 라이프 신랑수업\n",
    "channels_of_interest = ['play 채널A', '채널에이드: 채널A Drama & Enjoy', '빼밀리', '채널A WORLD']\n",
    "df8_filtered = df8[df8['channel_name'].isin(channels_of_interest)]\n",
    "df8_filtered = df8_filtered.reset_index(drop=True)\n",
    "\n",
    "# 요즘 육아 금쪽같은 내 새끼\n",
    "channels_of_interest = ['play 채널A', '채널A WORLD', '채널에이드: 채널A Drama & Enjoy', '빼밀리']\n",
    "df9_filtered = df9[df9['channel_name'].isin(channels_of_interest)]\n",
    "df9_filtered = df9_filtered.reset_index(drop=True)\n",
    "\n",
    "# 채널A 토일드라마 새벽 2시의 신데렐라\n",
    "channels_of_interest = ['play 채널A', '채널에이드: 채널A Drama & Enjoy']\n",
    "df10_filtered = df10[df10['channel_name'].isin(channels_of_interest)]\n",
    "df10_filtered = df10_filtered.reset_index(drop=True)"
   ]
  },
  {
   "cell_type": "code",
   "execution_count": 5,
   "id": "d631408f-e6fb-4fcb-861c-2ce6101cc65e",
   "metadata": {},
   "outputs": [],
   "source": [
    "df7_filtered = df7_filtered.drop([79,80,81,82])\n",
    "df10_filtered = df10_filtered.drop([7,8,9,10,11])"
   ]
  },
  {
   "cell_type": "code",
   "execution_count": 6,
   "id": "3a179ff8-5519-4501-9a07-9017cd423c72",
   "metadata": {},
   "outputs": [],
   "source": [
    "import pandas as pd\n",
    "import numpy as np\n",
    "import matplotlib.pyplot as plt\n",
    "\n",
    "dfs_filtered = [df1_filtered,df2_filtered,df3_filtered,df4_filtered,df5_filtered,df6_filtered,df7_filtered,df8_filtered,df9_filtered,df10_filtered]\n",
    "\n",
    "dfs_filtered_sorted = []\n",
    "for i, df in enumerate(dfs_filtered, start=1):\n",
    "    # 'timestamp' 열을 datetime 형식으로 변환\n",
    "    df['published'] = pd.to_datetime(df['published'])\n",
    "    \n",
    "    # 'timestamp' 열을 기준으로 오름차순 정렬\n",
    "    df_sorted = df.sort_values(by='published')\n",
    "    \n",
    "    # 정렬된 데이터프레임을 리스트에 추가\n",
    "    dfs_filtered_sorted.append(df_sorted)\n",
    "    \n",
    "    # print(f\"정렬된 df{i}:\")\n",
    "    # print(df_sorted['published'])\n",
    "    # print()"
   ]
  },
  {
   "cell_type": "code",
   "execution_count": 7,
   "id": "ff683d04-5c18-4394-83ff-a90bd510b2a0",
   "metadata": {},
   "outputs": [],
   "source": [
    "c1 = df1_filtered['channel_name'] == 'play 채널A'\n",
    "sorted_df1 = df1_filtered.loc[c1].sort_values(by='published')\n",
    "# sorted_df1.to_csv('published_sorted_channelA.csv', index=False)\n",
    "# print(sorted_df1)"
   ]
  },
  {
   "cell_type": "code",
   "execution_count": 8,
   "id": "0f947f73-e7b2-4dd1-ae94-a8b815cb52e2",
   "metadata": {},
   "outputs": [],
   "source": [
    "c2 = df1_filtered['channel_name'] == '채널아하: 채널A Health & Asset'\n",
    "sorted_df2 = df1_filtered.loc[c2].sort_values(by='published')\n",
    "# sorted_df1.to_csv('published_sorted_channel_AandH.csv', index=False)\n",
    "# print(sorted_df2)"
   ]
  },
  {
   "cell_type": "code",
   "execution_count": 9,
   "id": "5f762dba-ff41-483c-bb4e-aa20b4d5d1e8",
   "metadata": {},
   "outputs": [],
   "source": [
    "c3 = df1_filtered['channel_name'] == '채널에이드: 채널A Drama & Enjoy'\n",
    "sorted_df3 = df1_filtered.loc[c3].sort_values(by='published')\n",
    "# sorted_df1.to_csv('published_sorted_channel_AandD.csv', index=False)\n",
    "# print(sorted_df3)"
   ]
  },
  {
   "cell_type": "code",
   "execution_count": 10,
   "id": "53773c34-f0f6-43df-8a3b-848b4b418976",
   "metadata": {},
   "outputs": [],
   "source": [
    "c4 = df1_filtered['channel_name'] == '채널A WORLD'\n",
    "sorted_df4 = df1_filtered.loc[c4].sort_values(by='published')\n",
    "# sorted_df1.to_csv('published_sorted_channel_Aworld.csv', index=False)\n",
    "# print(sorted_df4)"
   ]
  },
  {
   "cell_type": "markdown",
   "id": "fcab3ebf-82d7-4bf4-91af-496852b06ba0",
   "metadata": {},
   "source": [
    "### 같은 날 올라온 영상 수"
   ]
  },
  {
   "cell_type": "code",
   "execution_count": 33,
   "id": "e4ef3b22-ab10-4caa-838a-1e4b3fb6269f",
   "metadata": {},
   "outputs": [
    {
     "name": "stdout",
     "output_type": "stream",
     "text": [
      "date\n",
      "2023-07-27    3\n",
      "2023-10-17    2\n",
      "2023-10-18    2\n",
      "2023-10-19    1\n",
      "2023-10-20    5\n",
      "             ..\n",
      "2024-08-26    3\n",
      "2024-08-31    1\n",
      "2024-09-01    5\n",
      "2024-09-02    1\n",
      "2024-09-03    2\n",
      "Name: count, Length: 70, dtype: int64\n"
     ]
    }
   ],
   "source": [
    "# Convert 'published' to datetime\n",
    "sorted_df1['published'] = pd.to_datetime(sorted_df1['published'])\n",
    "\n",
    "# Extract the date part (year-month-day)\n",
    "sorted_df1['date'] = sorted_df1['published'].dt.date\n",
    "\n",
    "# Count occurrences of each date\n",
    "date_counts = sorted_df1['date'].value_counts().sort_index()\n",
    "# date_counts.to_csv('date_count_playchannelA.csv', index=True)\n",
    "print(date_counts)"
   ]
  },
  {
   "cell_type": "code",
   "execution_count": 35,
   "id": "dfa2ca6c-f32e-4610-a442-56d62eee5516",
   "metadata": {},
   "outputs": [
    {
     "name": "stdout",
     "output_type": "stream",
     "text": [
      "date\n",
      "2024-07-08    1\n",
      "2024-07-15    2\n",
      "2024-07-22    2\n",
      "2024-07-28    1\n",
      "2024-07-29    1\n",
      "2024-08-05    2\n",
      "2024-08-12    2\n",
      "2024-08-19    2\n",
      "2024-08-26    2\n",
      "2024-09-02    2\n",
      "Name: count, dtype: int64\n"
     ]
    }
   ],
   "source": [
    "# Convert 'published' to datetime\n",
    "sorted_df2['published'] = pd.to_datetime(sorted_df2['published'])\n",
    "\n",
    "# Extract the date part (year-month-day)\n",
    "sorted_df2['date'] = sorted_df2['published'].dt.date\n",
    "\n",
    "# Count occurrences of each date\n",
    "date_counts = sorted_df2['date'].value_counts().sort_index()\n",
    "# date_counts.to_csv('date_count_channelAandH.csv', index=True)\n",
    "print(date_counts)"
   ]
  },
  {
   "cell_type": "code",
   "execution_count": 37,
   "id": "beeb5728-0c4e-4e7f-a365-d68cd92cca64",
   "metadata": {},
   "outputs": [
    {
     "name": "stdout",
     "output_type": "stream",
     "text": [
      "date\n",
      "2023-11-15    2\n",
      "2023-11-21    1\n",
      "2023-11-28    1\n",
      "2023-12-12    1\n",
      "2023-12-19    1\n",
      "2023-12-26    1\n",
      "2024-01-16    1\n",
      "2024-01-31    1\n",
      "2024-02-07    1\n",
      "2024-07-03    1\n",
      "2024-07-10    1\n",
      "2024-07-17    1\n",
      "2024-07-24    1\n",
      "2024-07-31    1\n",
      "2024-08-07    1\n",
      "2024-08-14    1\n",
      "2024-09-03    1\n",
      "Name: count, dtype: int64\n"
     ]
    }
   ],
   "source": [
    "# Convert 'published' to datetime\n",
    "sorted_df3['published'] = pd.to_datetime(sorted_df3['published'])\n",
    "\n",
    "# Extract the date part (year-month-day)\n",
    "sorted_df3['date'] = sorted_df3['published'].dt.date\n",
    "\n",
    "# Count occurrences of each date\n",
    "date_counts = sorted_df3['date'].value_counts().sort_index()\n",
    "# date_counts.to_csv('date_count_AD.csv', index=True)\n",
    "print(date_counts)"
   ]
  },
  {
   "cell_type": "code",
   "execution_count": 38,
   "id": "b06be42f-b874-4eca-ab79-f703e98d349f",
   "metadata": {},
   "outputs": [
    {
     "name": "stdout",
     "output_type": "stream",
     "text": [
      "date\n",
      "2023-11-11    1\n",
      "2023-11-29    1\n",
      "2023-12-06    1\n",
      "2023-12-13    1\n",
      "2023-12-20    1\n",
      "2023-12-27    1\n",
      "2024-01-03    1\n",
      "2024-01-10    1\n",
      "2024-01-17    1\n",
      "2024-01-24    1\n",
      "2024-07-01    1\n",
      "2024-07-14    1\n",
      "2024-07-21    1\n",
      "2024-07-28    1\n",
      "2024-08-04    1\n",
      "2024-08-11    1\n",
      "2024-08-18    1\n",
      "Name: count, dtype: int64\n"
     ]
    }
   ],
   "source": [
    "# Convert 'published' to datetime\n",
    "sorted_df4['published'] = pd.to_datetime(sorted_df4['published'])\n",
    "\n",
    "# Extract the date part (year-month-day)\n",
    "sorted_df4['date'] = sorted_df4['published'].dt.date\n",
    "\n",
    "# Count occurrences of each date\n",
    "date_counts = sorted_df4['date'].value_counts().sort_index()\n",
    "date_counts.to_csv('date_count_Aworld.csv', index=True)\n",
    "print(date_counts)"
   ]
  },
  {
   "cell_type": "markdown",
   "id": "b19393d8-d057-47b0-9a7e-0ee0fb40d30b",
   "metadata": {},
   "source": [
    "### 조회수 낮은순 + 채널별 csv파일 저장"
   ]
  },
  {
   "cell_type": "code",
   "execution_count": 15,
   "id": "cbbacd87-44e8-45cc-8b44-1b6ccb24e1fe",
   "metadata": {},
   "outputs": [],
   "source": [
    "v1 = df1_filtered['channel_name'] == 'play 채널A'\n",
    "vsort_df1 = df1_filtered.loc[v1].sort_values(by='view_count', ascending=False)\n",
    "# vsort_df1.to_csv('playA_view_sort.csv', index=False)\n",
    "# print(vsort_df1)"
   ]
  },
  {
   "cell_type": "code",
   "execution_count": 19,
   "id": "11d0dac3-4544-443c-b08d-508ded8d1a49",
   "metadata": {},
   "outputs": [],
   "source": [
    "v2 = df1_filtered['channel_name'] == '채널아하: 채널A Health & Asset'\n",
    "vsort_df2 = df1_filtered.loc[v2].sort_values(by='view_count', ascending=False)\n",
    "# vsort_df2.to_csv('AH_view_sort.csv', index=False)"
   ]
  },
  {
   "cell_type": "code",
   "execution_count": 20,
   "id": "405b1939-351c-418f-950e-735acc449484",
   "metadata": {},
   "outputs": [],
   "source": [
    "v3 = df1_filtered['channel_name'] == '채널에이드: 채널A Drama & Enjoy'\n",
    "vsort_df3 = df1_filtered.loc[v3].sort_values(by='view_count', ascending=False)\n",
    "# vsort_df3.to_csv('AD_view_sort.csv', index=False)"
   ]
  },
  {
   "cell_type": "code",
   "execution_count": 22,
   "id": "f37a5837-0006-47a4-b343-562662ac1af6",
   "metadata": {},
   "outputs": [],
   "source": [
    "v4 = df1_filtered['channel_name'] == '채널A WORLD'\n",
    "vsort_df4 = df1_filtered.loc[v4].sort_values(by='view_count', ascending=False)\n",
    "# vsort_df4.to_csv('Aworld_view_sort.csv', index=False)"
   ]
  },
  {
   "cell_type": "markdown",
   "id": "f60d6d18-b47f-4524-b706-5c3f1100476c",
   "metadata": {},
   "source": [
    "### 채널별 평균 조회수"
   ]
  },
  {
   "cell_type": "code",
   "execution_count": 51,
   "id": "b82842a4-e1d5-4acd-8a26-ea21521a858b",
   "metadata": {},
   "outputs": [
    {
     "data": {
      "text/plain": [
       "np.float64(379514.66438356164)"
      ]
     },
     "execution_count": 51,
     "metadata": {},
     "output_type": "execute_result"
    }
   ],
   "source": [
    "# play 채널 A\n",
    "df1_filtered[v1]['view_count'].mean()"
   ]
  },
  {
   "cell_type": "code",
   "execution_count": 53,
   "id": "2a9b9746-c1a0-444a-aa3e-747f3d88ec77",
   "metadata": {},
   "outputs": [
    {
     "data": {
      "text/plain": [
       "np.float64(237783.0)"
      ]
     },
     "execution_count": 53,
     "metadata": {},
     "output_type": "execute_result"
    }
   ],
   "source": [
    "# [채널아하: 채널A Health & Asset]\n",
    "df1_filtered[v2]['view_count'].mean()"
   ]
  },
  {
   "cell_type": "code",
   "execution_count": 54,
   "id": "405941d0-d677-46ad-9054-48b91a4b5a1b",
   "metadata": {},
   "outputs": [
    {
     "data": {
      "text/plain": [
       "np.float64(1267368.611111111)"
      ]
     },
     "execution_count": 54,
     "metadata": {},
     "output_type": "execute_result"
    }
   ],
   "source": [
    "df1_filtered[v3]['view_count'].mean()"
   ]
  },
  {
   "cell_type": "code",
   "execution_count": 55,
   "id": "a760cbb6-67cd-4d34-92cd-03775e38a9aa",
   "metadata": {},
   "outputs": [
    {
     "data": {
      "text/plain": [
       "np.float64(1050111.1176470588)"
      ]
     },
     "execution_count": 55,
     "metadata": {},
     "output_type": "execute_result"
    }
   ],
   "source": [
    "df1_filtered[v4]['view_count'].mean()"
   ]
  }
 ],
 "metadata": {
  "kernelspec": {
   "display_name": "Python 3 (ipykernel)",
   "language": "python",
   "name": "python3"
  },
  "language_info": {
   "codemirror_mode": {
    "name": "ipython",
    "version": 3
   },
   "file_extension": ".py",
   "mimetype": "text/x-python",
   "name": "python",
   "nbconvert_exporter": "python",
   "pygments_lexer": "ipython3",
   "version": "3.12.4"
  }
 },
 "nbformat": 4,
 "nbformat_minor": 5
}
