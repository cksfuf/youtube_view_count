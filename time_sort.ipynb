{
 "cells": [
  {
   "cell_type": "code",
   "execution_count": 1,
   "id": "fd90fe21-0608-4302-96ae-0a9cc247c8e6",
   "metadata": {},
   "outputs": [],
   "source": [
    "import pandas as pd"
   ]
  },
  {
   "cell_type": "code",
   "execution_count": 2,
   "id": "6b164de4-aa1a-4ede-8aba-318215f50c7a",
   "metadata": {},
   "outputs": [],
   "source": [
    "df1 = pd.read_csv('성적을 부탁해 티쳐스.csv')\n",
    "df2 = pd.read_csv('아빠는 꽃중년.csv')\n",
    "df3 = pd.read_csv('오은영의 금쪽 상담소.csv')\n",
    "df4 = pd.read_csv('이제 만나러 갑니다.csv')\n",
    "df5 = pd.read_csv('절친 토크멘터리 4인용 식탁.csv')\n",
    "df6 = pd.read_csv('탐정들의 영업비밀.csv')\n",
    "df7 = pd.read_csv('남의 나라 살아보기 선 넘은 패밀리.csv')\n",
    "df8 = pd.read_csv('요즘 남자 라이프 신랑수업.csv')\n",
    "df9 = pd.read_csv('요즘 육아 금쪽같은 내 새끼.csv')\n",
    "df10 = pd.read_csv('채널A 토일드라마 새벽 2시의 신데렐라.csv')"
   ]
  },
  {
   "cell_type": "code",
   "execution_count": 3,
   "id": "fc75c7c0-e057-4c97-8a7c-f3eefd3f7a4a",
   "metadata": {},
   "outputs": [],
   "source": [
    "# 성적을 부탁해 티쳐스\n",
    "channels_of_interest = ['play 채널A', '채널아하: 채널A Health & Asset', '채널에이드: 채널A Drama & Enjoy','채널A WORLD']\n",
    "df1_filtered = df1[df1['channel_name'].isin(channels_of_interest)]\n",
    "df1_filtered = df1_filtered.reset_index(drop=True)\n",
    "\n",
    "# 아빠는 꽂중년\n",
    "channels_of_interest = ['play 채널A', '채널에이드: 채널A Drama & Enjoy', '빼밀리', '채널A WORLD','채널아하: 채널A Health & Asset']\n",
    "df2_filtered = df2[df2['channel_name'].isin(channels_of_interest)]\n",
    "df2_filtered = df2_filtered.reset_index(drop=True)\n",
    "\n",
    "# 오은영의 금쪽 상담소\n",
    "channels_of_interest = ['play 채널A', '채널에이드: 채널A Drama & Enjoy', '채널A WORLD', '빼밀리', '채널아하: 채널A Health & Asset']\n",
    "df3_filtered = df3[df3['channel_name'].isin(channels_of_interest)]\n",
    "df3_filtered = df3_filtered.reset_index(drop=True)\n",
    "\n",
    "# 이제 만나러 갑니다\n",
    "channels_of_interest = ['play 채널A', '채널A WORLD', '채널에이드: 채널A Drama & Enjoy']\n",
    "df4_filtered = df4[df4['channel_name'].isin(channels_of_interest)]\n",
    "df4_filtered = df4_filtered.reset_index(drop=True)\n",
    "\n",
    "# 절친 토크멘터리 4인용 식탁\n",
    "channels_of_interest = ['play 채널A', '채널아하: 채널A Health & Asset', '채널에이드: 채널A Drama & Enjoy', '채널A WORLD', '빼밀리']\n",
    "df5_filtered = df5[df5['channel_name'].isin(channels_of_interest)]\n",
    "df5_filtered = df5_filtered.reset_index(drop=True)\n",
    "\n",
    "# 탐정들의 영업비밀\n",
    "channels_of_interest = ['play 채널A', '채널A WORLD', '채널에이드: 채널A Drama & Enjoy', '빼밀리']\n",
    "df6_filtered = df6[df6['channel_name'].isin(channels_of_interest)]\n",
    "df6_filtered = df6_filtered.reset_index(drop=True)\n",
    "\n",
    "# 남의 나라 살아보기 선 넘은 패밀리\n",
    "channels_of_interest = ['play 채널A', '채널A WORLD', '채널에이드: 채널A Drama & Enjoy']\n",
    "df7_filtered = df7[df7['channel_name'].isin(channels_of_interest)]\n",
    "df7_filtered = df7_filtered.reset_index(drop=True)\n",
    "\n",
    "# 요즘 남자 라이프 신랑수업\n",
    "channels_of_interest = ['play 채널A', '채널에이드: 채널A Drama & Enjoy', '빼밀리', '채널A WORLD']\n",
    "df8_filtered = df8[df8['channel_name'].isin(channels_of_interest)]\n",
    "df8_filtered = df8_filtered.reset_index(drop=True)\n",
    "\n",
    "# 요즘 육아 금쪽같은 내 새끼\n",
    "channels_of_interest = ['play 채널A', '채널A WORLD', '채널에이드: 채널A Drama & Enjoy', '빼밀리']\n",
    "df9_filtered = df9[df9['channel_name'].isin(channels_of_interest)]\n",
    "df9_filtered = df9_filtered.reset_index(drop=True)\n",
    "\n",
    "# 채널A 토일드라마 새벽 2시의 신데렐라\n",
    "channels_of_interest = ['play 채널A', '채널에이드: 채널A Drama & Enjoy']\n",
    "df10_filtered = df10[df10['channel_name'].isin(channels_of_interest)]\n",
    "df10_filtered = df10_filtered.reset_index(drop=True)"
   ]
  },
  {
   "cell_type": "code",
   "execution_count": 4,
   "id": "d631408f-e6fb-4fcb-861c-2ce6101cc65e",
   "metadata": {},
   "outputs": [],
   "source": [
    "df7_filtered = df7_filtered.drop([79,80,81,82])\n",
    "df10_filtered = df10_filtered.drop([7,8,9,10,11])"
   ]
  },
  {
   "cell_type": "code",
   "execution_count": 10,
   "id": "3a179ff8-5519-4501-9a07-9017cd423c72",
   "metadata": {},
   "outputs": [],
   "source": [
    "import pandas as pd\n",
    "import numpy as np\n",
    "import matplotlib.pyplot as plt\n",
    "\n",
    "dfs_filtered = [df1_filtered,df2_filtered,df3_filtered,df4_filtered,df5_filtered,df6_filtered,df7_filtered,df8_filtered,df9_filtered,df10_filtered]\n",
    "\n",
    "dfs_filtered_sorted = []\n",
    "for i, df in enumerate(dfs_filtered, start=1):\n",
    "    # 'timestamp' 열을 datetime 형식으로 변환\n",
    "    df['published'] = pd.to_datetime(df['published'])\n",
    "    \n",
    "    # 'timestamp' 열을 기준으로 오름차순 정렬\n",
    "    df_sorted = df.sort_values(by='published')\n",
    "    \n",
    "    # 정렬된 데이터프레임을 리스트에 추가\n",
    "    dfs_filtered_sorted.append(df_sorted)\n",
    "    \n",
    "    # print(f\"정렬된 df{i}:\")\n",
    "    # print(df_sorted['published'])\n",
    "    # print()"
   ]
  },
  {
   "cell_type": "code",
   "execution_count": null,
   "id": "ff683d04-5c18-4394-83ff-a90bd510b2a0",
   "metadata": {},
   "outputs": [],
   "source": []
  }
 ],
 "metadata": {
  "kernelspec": {
   "display_name": "Python 3 (ipykernel)",
   "language": "python",
   "name": "python3"
  },
  "language_info": {
   "codemirror_mode": {
    "name": "ipython",
    "version": 3
   },
   "file_extension": ".py",
   "mimetype": "text/x-python",
   "name": "python",
   "nbconvert_exporter": "python",
   "pygments_lexer": "ipython3",
   "version": "3.12.4"
  }
 },
 "nbformat": 4,
 "nbformat_minor": 5
}
